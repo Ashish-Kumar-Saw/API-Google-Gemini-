{
 "cells": [
  {
   "cell_type": "markdown",
   "id": "f966a4a9-b1b7-4b08-8034-0d9cfb74b54e",
   "metadata": {},
   "source": [
    "# 1. Install & Import Packages"
   ]
  },
  {
   "cell_type": "code",
   "execution_count": 152,
   "id": "7ae07f87-96f3-4bfe-b836-061c0a92f15a",
   "metadata": {},
   "outputs": [
    {
     "name": "stdout",
     "output_type": "stream",
     "text": [
      "Requirement already satisfied: google-generativeai in c:\\users\\ak114\\anaconda3\\lib\\site-packages (0.8.3)\n",
      "Requirement already satisfied: google-ai-generativelanguage==0.6.10 in c:\\users\\ak114\\anaconda3\\lib\\site-packages (from google-generativeai) (0.6.10)\n",
      "Requirement already satisfied: google-api-core in c:\\users\\ak114\\anaconda3\\lib\\site-packages (from google-generativeai) (2.24.0)\n",
      "Requirement already satisfied: google-api-python-client in c:\\users\\ak114\\anaconda3\\lib\\site-packages (from google-generativeai) (2.156.0)\n",
      "Requirement already satisfied: google-auth>=2.15.0 in c:\\users\\ak114\\anaconda3\\lib\\site-packages (from google-generativeai) (2.37.0)\n",
      "Requirement already satisfied: protobuf in c:\\users\\ak114\\anaconda3\\lib\\site-packages (from google-generativeai) (5.29.2)\n",
      "Requirement already satisfied: pydantic in c:\\users\\ak114\\anaconda3\\lib\\site-packages (from google-generativeai) (2.5.3)\n",
      "Requirement already satisfied: tqdm in c:\\users\\ak114\\anaconda3\\lib\\site-packages (from google-generativeai) (4.66.4)\n",
      "Requirement already satisfied: typing-extensions in c:\\users\\ak114\\anaconda3\\lib\\site-packages (from google-generativeai) (4.11.0)\n",
      "Requirement already satisfied: proto-plus<2.0.0dev,>=1.22.3 in c:\\users\\ak114\\anaconda3\\lib\\site-packages (from google-ai-generativelanguage==0.6.10->google-generativeai) (1.25.0)\n",
      "Requirement already satisfied: googleapis-common-protos<2.0.dev0,>=1.56.2 in c:\\users\\ak114\\anaconda3\\lib\\site-packages (from google-api-core->google-generativeai) (1.66.0)\n",
      "Requirement already satisfied: requests<3.0.0.dev0,>=2.18.0 in c:\\users\\ak114\\anaconda3\\lib\\site-packages (from google-api-core->google-generativeai) (2.32.2)\n",
      "Requirement already satisfied: cachetools<6.0,>=2.0.0 in c:\\users\\ak114\\anaconda3\\lib\\site-packages (from google-auth>=2.15.0->google-generativeai) (5.3.3)\n",
      "Requirement already satisfied: pyasn1-modules>=0.2.1 in c:\\users\\ak114\\anaconda3\\lib\\site-packages (from google-auth>=2.15.0->google-generativeai) (0.2.8)\n",
      "Requirement already satisfied: rsa<5,>=3.1.4 in c:\\users\\ak114\\anaconda3\\lib\\site-packages (from google-auth>=2.15.0->google-generativeai) (4.9)\n",
      "Requirement already satisfied: httplib2<1.dev0,>=0.19.0 in c:\\users\\ak114\\anaconda3\\lib\\site-packages (from google-api-python-client->google-generativeai) (0.22.0)\n",
      "Requirement already satisfied: google-auth-httplib2<1.0.0,>=0.2.0 in c:\\users\\ak114\\anaconda3\\lib\\site-packages (from google-api-python-client->google-generativeai) (0.2.0)\n",
      "Requirement already satisfied: uritemplate<5,>=3.0.1 in c:\\users\\ak114\\anaconda3\\lib\\site-packages (from google-api-python-client->google-generativeai) (4.1.1)\n",
      "Requirement already satisfied: annotated-types>=0.4.0 in c:\\users\\ak114\\anaconda3\\lib\\site-packages (from pydantic->google-generativeai) (0.6.0)\n",
      "Requirement already satisfied: pydantic-core==2.14.6 in c:\\users\\ak114\\anaconda3\\lib\\site-packages (from pydantic->google-generativeai) (2.14.6)\n",
      "Requirement already satisfied: colorama in c:\\users\\ak114\\anaconda3\\lib\\site-packages (from tqdm->google-generativeai) (0.4.6)\n",
      "Requirement already satisfied: grpcio<2.0dev,>=1.33.2 in c:\\users\\ak114\\anaconda3\\lib\\site-packages (from google-api-core[grpc]!=2.0.*,!=2.1.*,!=2.10.*,!=2.2.*,!=2.3.*,!=2.4.*,!=2.5.*,!=2.6.*,!=2.7.*,!=2.8.*,!=2.9.*,<3.0.0dev,>=1.34.1->google-ai-generativelanguage==0.6.10->google-generativeai) (1.68.1)\n",
      "Requirement already satisfied: grpcio-status<2.0.dev0,>=1.33.2 in c:\\users\\ak114\\anaconda3\\lib\\site-packages (from google-api-core[grpc]!=2.0.*,!=2.1.*,!=2.10.*,!=2.2.*,!=2.3.*,!=2.4.*,!=2.5.*,!=2.6.*,!=2.7.*,!=2.8.*,!=2.9.*,<3.0.0dev,>=1.34.1->google-ai-generativelanguage==0.6.10->google-generativeai) (1.68.1)\n",
      "Requirement already satisfied: pyparsing!=3.0.0,!=3.0.1,!=3.0.2,!=3.0.3,<4,>=2.4.2 in c:\\users\\ak114\\anaconda3\\lib\\site-packages (from httplib2<1.dev0,>=0.19.0->google-api-python-client->google-generativeai) (3.0.9)\n",
      "Requirement already satisfied: pyasn1<0.5.0,>=0.4.6 in c:\\users\\ak114\\anaconda3\\lib\\site-packages (from pyasn1-modules>=0.2.1->google-auth>=2.15.0->google-generativeai) (0.4.8)\n",
      "Requirement already satisfied: charset-normalizer<4,>=2 in c:\\users\\ak114\\anaconda3\\lib\\site-packages (from requests<3.0.0.dev0,>=2.18.0->google-api-core->google-generativeai) (2.0.4)\n",
      "Requirement already satisfied: idna<4,>=2.5 in c:\\users\\ak114\\anaconda3\\lib\\site-packages (from requests<3.0.0.dev0,>=2.18.0->google-api-core->google-generativeai) (3.7)\n",
      "Requirement already satisfied: urllib3<3,>=1.21.1 in c:\\users\\ak114\\anaconda3\\lib\\site-packages (from requests<3.0.0.dev0,>=2.18.0->google-api-core->google-generativeai) (2.2.2)\n",
      "Requirement already satisfied: certifi>=2017.4.17 in c:\\users\\ak114\\anaconda3\\lib\\site-packages (from requests<3.0.0.dev0,>=2.18.0->google-api-core->google-generativeai) (2024.8.30)\n"
     ]
    }
   ],
   "source": [
    "!pip install google-generativeai"
   ]
  },
  {
   "cell_type": "code",
   "execution_count": 153,
   "id": "0eba8d62-07a9-4a0d-a811-24aaad795970",
   "metadata": {},
   "outputs": [],
   "source": [
    "import google.generativeai as genai"
   ]
  },
  {
   "cell_type": "markdown",
   "id": "7511f6e5-e4d2-4337-a558-cfeab3befb58",
   "metadata": {},
   "source": [
    "# 2.Setup your API Key\n",
    "get an API key=>https://aistudio.google.com/app/apikey"
   ]
  },
  {
   "cell_type": "code",
   "execution_count": 155,
   "id": "5144fd20-859e-411c-b780-a87ac09059a1",
   "metadata": {},
   "outputs": [
    {
     "data": {
      "text/plain": [
       "True"
      ]
     },
     "execution_count": 155,
     "metadata": {},
     "output_type": "execute_result"
    }
   ],
   "source": [
    "import os\n",
    "from dotenv import load_dotenv\n",
    "\n",
    "load_dotenv()"
   ]
  },
  {
   "cell_type": "code",
   "execution_count": 156,
   "id": "c7b95f05-c633-4b0a-8004-39b383800c7d",
   "metadata": {},
   "outputs": [],
   "source": [
    "GOOGLE_API_KEY = os.getenv('GOOGLE_API_KEY')"
   ]
  },
  {
   "cell_type": "code",
   "execution_count": 157,
   "id": "e1be04ac-119a-49f4-a47a-466cf26ec0be",
   "metadata": {},
   "outputs": [],
   "source": [
    "genai.configure(api_key = GOOGLE_API_KEY)"
   ]
  },
  {
   "cell_type": "markdown",
   "id": "aa50ea74-7e6e-458d-9be8-60742d725cb3",
   "metadata": {},
   "source": [
    "# 3.Select Model"
   ]
  },
  {
   "cell_type": "code",
   "execution_count": 159,
   "id": "1baa0e75-346c-4886-826a-331783eca547",
   "metadata": {},
   "outputs": [
    {
     "name": "stdout",
     "output_type": "stream",
     "text": [
      "models/gemini-1.0-pro-latest\n",
      "models/gemini-1.0-pro\n",
      "models/gemini-pro\n",
      "models/gemini-1.0-pro-001\n",
      "models/gemini-1.0-pro-vision-latest\n",
      "models/gemini-pro-vision\n",
      "models/gemini-1.5-pro-latest\n",
      "models/gemini-1.5-pro-001\n",
      "models/gemini-1.5-pro-002\n",
      "models/gemini-1.5-pro\n",
      "models/gemini-1.5-pro-exp-0801\n",
      "models/gemini-1.5-pro-exp-0827\n",
      "models/gemini-1.5-flash-latest\n",
      "models/gemini-1.5-flash-001\n",
      "models/gemini-1.5-flash-001-tuning\n",
      "models/gemini-1.5-flash\n",
      "models/gemini-1.5-flash-exp-0827\n",
      "models/gemini-1.5-flash-002\n",
      "models/gemini-1.5-flash-8b\n",
      "models/gemini-1.5-flash-8b-001\n",
      "models/gemini-1.5-flash-8b-latest\n",
      "models/gemini-1.5-flash-8b-exp-0827\n",
      "models/gemini-1.5-flash-8b-exp-0924\n",
      "models/gemini-2.0-flash-exp\n",
      "models/gemini-exp-1206\n",
      "models/gemini-exp-1121\n",
      "models/gemini-exp-1114\n",
      "models/gemini-2.0-flash-thinking-exp\n",
      "models/gemini-2.0-flash-thinking-exp-1219\n",
      "models/learnlm-1.5-pro-experimental\n"
     ]
    }
   ],
   "source": [
    "for m in genai.list_models():\n",
    "    if 'generateContent' in m.supported_generation_methods:\n",
    "        print(m.name)"
   ]
  },
  {
   "cell_type": "code",
   "execution_count": 160,
   "id": "1ada320d-802a-4913-b94f-a68fb34f56d2",
   "metadata": {},
   "outputs": [],
   "source": [
    "model = genai.GenerativeModel('gemini-pro')"
   ]
  },
  {
   "cell_type": "markdown",
   "id": "4e797d38-094a-434f-bf88-b9f3d023cad1",
   "metadata": {},
   "source": [
    "# 4.Generate Response"
   ]
  },
  {
   "cell_type": "code",
   "execution_count": 162,
   "id": "357b62db-9c68-4c5b-8918-270de26d8545",
   "metadata": {},
   "outputs": [],
   "source": [
    "response = model.generate_content(\"About Education\")"
   ]
  },
  {
   "cell_type": "code",
   "execution_count": 163,
   "id": "6397a3b0-c818-4303-b943-b7485526ed98",
   "metadata": {},
   "outputs": [
    {
     "data": {
      "text/plain": [
       "\"**Education**\\n\\n**Definition:**\\n\\nEducation encompasses the process of acquiring knowledge, skills, values, beliefs, and habits through formal and informal means. It enables individuals to develop intellectually, socially, and emotionally, empowering them to contribute to society and live fulfilling lives.\\n\\n**Types of Education:**\\n\\n* **Formal Education:** Structured learning that takes place in institutions such as schools, colleges, and universities, leading to recognized degrees or qualifications.\\n* **Informal Education:** Unstructured learning that occurs outside of formal institutions, such as through workshops, seminars, or self-directed study.\\n* **Distance Education:** Learning that takes place remotely, using technology such as online courses or correspondence.\\n* **Non-formal Education:** Structured learning that takes place outside of formal institutions, but is similar to formal education in terms of content and structure.\\n\\n**Levels of Education:**\\n\\n* **Early Childhood Education:** Focuses on the development of young children's cognitive, social, and emotional skills.\\n* **Primary Education:** Covers basic literacy, numeracy, and socialization skills.\\n* **Secondary Education:** Provides students with a broader range of subjects and prepares them for higher education or the workforce.\\n* **Post-Secondary Education:** Includes higher education institutions such as colleges, universities, and technical schools.\\n* **Lifelong Learning:** Continuous learning throughout one's life to acquire new skills, knowledge, and experiences.\\n\\n**Importance of Education:**\\n\\n* **Economic Empowerment:** Education improves earning potential and job opportunities.\\n* **Social Progress:** Education promotes social equality, reduces poverty, and fosters social cohesion.\\n* **Personal Development:** Education develops intellectual capacities, critical thinking skills, and problem-solving abilities.\\n* **Civic Engagement:** Education prepares individuals to understand their rights and responsibilities as citizens.\\n* **Cultural Preservation and Advancement:** Education transmits cultural values, knowledge, and traditions while also fostering cultural innovation.\\n\\n**Challenges and Trends:**\\n\\n* **Access and Equity:** Ensuring that all individuals have access to quality education, regardless of their social background or economic status.\\n* **Digitalization:** The integration of technology into education to enhance learning experiences and bridge geographical barriers.\\n* **Globalization:** The need for education systems to prepare students for a globalized workforce and address international challenges.\\n* **Sustainable Development:** Promoting education that fosters environmental awareness, social responsibility, and economic sustainability.\\n* **Personalized Learning:** Tailoring education to meet the individual needs of students, promoting self-directed learning and flexible pathways.\""
      ]
     },
     "execution_count": 163,
     "metadata": {},
     "output_type": "execute_result"
    }
   ],
   "source": [
    "response.text"
   ]
  },
  {
   "cell_type": "markdown",
   "id": "84bac611-04db-4cbd-a2ad-76100291a668",
   "metadata": {},
   "source": [
    "# 5.Print Response"
   ]
  },
  {
   "cell_type": "code",
   "execution_count": 165,
   "id": "26dd9f72-52eb-48cf-8320-8e83062f2600",
   "metadata": {},
   "outputs": [],
   "source": [
    "from IPython.display import Markdown\n",
    "\n",
    "def to_markdown(text):\n",
    "    text = text.replace('•', '  *')\n",
    "    return Markdown(textwrap.indent(text, '> ', predicate=lambda _: True))"
   ]
  },
  {
   "cell_type": "code",
   "execution_count": 166,
   "id": "d576b04b-c217-4ca7-bd43-f3f000f09d9b",
   "metadata": {},
   "outputs": [
    {
     "data": {
      "text/markdown": [
       "> **Education**\n",
       "> \n",
       "> **Definition:**\n",
       "> \n",
       "> Education encompasses the process of acquiring knowledge, skills, values, beliefs, and habits through formal and informal means. It enables individuals to develop intellectually, socially, and emotionally, empowering them to contribute to society and live fulfilling lives.\n",
       "> \n",
       "> **Types of Education:**\n",
       "> \n",
       "> * **Formal Education:** Structured learning that takes place in institutions such as schools, colleges, and universities, leading to recognized degrees or qualifications.\n",
       "> * **Informal Education:** Unstructured learning that occurs outside of formal institutions, such as through workshops, seminars, or self-directed study.\n",
       "> * **Distance Education:** Learning that takes place remotely, using technology such as online courses or correspondence.\n",
       "> * **Non-formal Education:** Structured learning that takes place outside of formal institutions, but is similar to formal education in terms of content and structure.\n",
       "> \n",
       "> **Levels of Education:**\n",
       "> \n",
       "> * **Early Childhood Education:** Focuses on the development of young children's cognitive, social, and emotional skills.\n",
       "> * **Primary Education:** Covers basic literacy, numeracy, and socialization skills.\n",
       "> * **Secondary Education:** Provides students with a broader range of subjects and prepares them for higher education or the workforce.\n",
       "> * **Post-Secondary Education:** Includes higher education institutions such as colleges, universities, and technical schools.\n",
       "> * **Lifelong Learning:** Continuous learning throughout one's life to acquire new skills, knowledge, and experiences.\n",
       "> \n",
       "> **Importance of Education:**\n",
       "> \n",
       "> * **Economic Empowerment:** Education improves earning potential and job opportunities.\n",
       "> * **Social Progress:** Education promotes social equality, reduces poverty, and fosters social cohesion.\n",
       "> * **Personal Development:** Education develops intellectual capacities, critical thinking skills, and problem-solving abilities.\n",
       "> * **Civic Engagement:** Education prepares individuals to understand their rights and responsibilities as citizens.\n",
       "> * **Cultural Preservation and Advancement:** Education transmits cultural values, knowledge, and traditions while also fostering cultural innovation.\n",
       "> \n",
       "> **Challenges and Trends:**\n",
       "> \n",
       "> * **Access and Equity:** Ensuring that all individuals have access to quality education, regardless of their social background or economic status.\n",
       "> * **Digitalization:** The integration of technology into education to enhance learning experiences and bridge geographical barriers.\n",
       "> * **Globalization:** The need for education systems to prepare students for a globalized workforce and address international challenges.\n",
       "> * **Sustainable Development:** Promoting education that fosters environmental awareness, social responsibility, and economic sustainability.\n",
       "> * **Personalized Learning:** Tailoring education to meet the individual needs of students, promoting self-directed learning and flexible pathways."
      ],
      "text/plain": [
       "<IPython.core.display.Markdown object>"
      ]
     },
     "execution_count": 166,
     "metadata": {},
     "output_type": "execute_result"
    }
   ],
   "source": [
    "to_markdown(response.text)"
   ]
  }
 ],
 "metadata": {
  "kernelspec": {
   "display_name": "Python 3 (ipykernel)",
   "language": "python",
   "name": "python3"
  },
  "language_info": {
   "codemirror_mode": {
    "name": "ipython",
    "version": 3
   },
   "file_extension": ".py",
   "mimetype": "text/x-python",
   "name": "python",
   "nbconvert_exporter": "python",
   "pygments_lexer": "ipython3",
   "version": "3.12.4"
  }
 },
 "nbformat": 4,
 "nbformat_minor": 5
}
